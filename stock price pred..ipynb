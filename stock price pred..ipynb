{
 "cells": [
  {
   "cell_type": "code",
   "execution_count": null,
   "metadata": {},
   "outputs": [],
   "source": [
    "# Import Libraries"
   ]
  },
  {
   "cell_type": "code",
   "execution_count": 34,
   "metadata": {
    "_cell_guid": "b1076dfc-b9ad-4769-8c92-a6c4dae69d19",
    "_uuid": "8f2839f25d086af736a60e9eeb907d3b93b6e0e5",
    "execution": {
     "iopub.execute_input": "2023-04-18T17:46:07.328693Z",
     "iopub.status.busy": "2023-04-18T17:46:07.328239Z",
     "iopub.status.idle": "2023-04-18T17:46:08.635315Z",
     "shell.execute_reply": "2023-04-18T17:46:08.633741Z",
     "shell.execute_reply.started": "2023-04-18T17:46:07.328653Z"
    }
   },
   "outputs": [],
   "source": [
    "import numpy as np\n",
    "import pandas as pd\n",
    "import matplotlib.pyplot as plt\n",
    "from sklearn.model_selection import train_test_split\n",
    "from sklearn.linear_model import LinearRegression\n",
    "from sklearn.metrics import mean_squared_error, mean_absolute_error, mean_absolute_percentage_error,r2_score\n",
    "\n"
   ]
  },
  {
   "cell_type": "code",
   "execution_count": 35,
   "metadata": {
    "execution": {
     "iopub.execute_input": "2023-04-18T17:46:08.638062Z",
     "iopub.status.busy": "2023-04-18T17:46:08.637711Z",
     "iopub.status.idle": "2023-04-18T17:46:08.657461Z",
     "shell.execute_reply": "2023-04-18T17:46:08.65616Z",
     "shell.execute_reply.started": "2023-04-18T17:46:08.638028Z"
    }
   },
   "outputs": [],
   "source": [
    "df = pd.read_csv(r\"C:\\Users\\CHINMAYA\\Downloads\\NFLX.csv\")"
   ]
  },
  {
   "cell_type": "code",
   "execution_count": 36,
   "metadata": {
    "execution": {
     "iopub.execute_input": "2023-04-18T17:46:08.65914Z",
     "iopub.status.busy": "2023-04-18T17:46:08.658817Z",
     "iopub.status.idle": "2023-04-18T17:46:08.695012Z",
     "shell.execute_reply": "2023-04-18T17:46:08.693523Z",
     "shell.execute_reply.started": "2023-04-18T17:46:08.659109Z"
    }
   },
   "outputs": [
    {
     "data": {
      "text/html": [
       "<div>\n",
       "<style scoped>\n",
       "    .dataframe tbody tr th:only-of-type {\n",
       "        vertical-align: middle;\n",
       "    }\n",
       "\n",
       "    .dataframe tbody tr th {\n",
       "        vertical-align: top;\n",
       "    }\n",
       "\n",
       "    .dataframe thead th {\n",
       "        text-align: right;\n",
       "    }\n",
       "</style>\n",
       "<table border=\"1\" class=\"dataframe\">\n",
       "  <thead>\n",
       "    <tr style=\"text-align: right;\">\n",
       "      <th></th>\n",
       "      <th>Date</th>\n",
       "      <th>Open</th>\n",
       "      <th>High</th>\n",
       "      <th>Low</th>\n",
       "      <th>Close</th>\n",
       "      <th>Adj Close</th>\n",
       "      <th>Volume</th>\n",
       "    </tr>\n",
       "  </thead>\n",
       "  <tbody>\n",
       "    <tr>\n",
       "      <th>0</th>\n",
       "      <td>2018-02-05</td>\n",
       "      <td>262.000000</td>\n",
       "      <td>267.899994</td>\n",
       "      <td>250.029999</td>\n",
       "      <td>254.259995</td>\n",
       "      <td>254.259995</td>\n",
       "      <td>11896100</td>\n",
       "    </tr>\n",
       "    <tr>\n",
       "      <th>1</th>\n",
       "      <td>2018-02-06</td>\n",
       "      <td>247.699997</td>\n",
       "      <td>266.700012</td>\n",
       "      <td>245.000000</td>\n",
       "      <td>265.720001</td>\n",
       "      <td>265.720001</td>\n",
       "      <td>12595800</td>\n",
       "    </tr>\n",
       "    <tr>\n",
       "      <th>2</th>\n",
       "      <td>2018-02-07</td>\n",
       "      <td>266.579987</td>\n",
       "      <td>272.450012</td>\n",
       "      <td>264.329987</td>\n",
       "      <td>264.559998</td>\n",
       "      <td>264.559998</td>\n",
       "      <td>8981500</td>\n",
       "    </tr>\n",
       "    <tr>\n",
       "      <th>3</th>\n",
       "      <td>2018-02-08</td>\n",
       "      <td>267.079987</td>\n",
       "      <td>267.619995</td>\n",
       "      <td>250.000000</td>\n",
       "      <td>250.100006</td>\n",
       "      <td>250.100006</td>\n",
       "      <td>9306700</td>\n",
       "    </tr>\n",
       "    <tr>\n",
       "      <th>4</th>\n",
       "      <td>2018-02-09</td>\n",
       "      <td>253.850006</td>\n",
       "      <td>255.800003</td>\n",
       "      <td>236.110001</td>\n",
       "      <td>249.470001</td>\n",
       "      <td>249.470001</td>\n",
       "      <td>16906900</td>\n",
       "    </tr>\n",
       "    <tr>\n",
       "      <th>5</th>\n",
       "      <td>2018-02-12</td>\n",
       "      <td>252.139999</td>\n",
       "      <td>259.149994</td>\n",
       "      <td>249.000000</td>\n",
       "      <td>257.950012</td>\n",
       "      <td>257.950012</td>\n",
       "      <td>8534900</td>\n",
       "    </tr>\n",
       "    <tr>\n",
       "      <th>6</th>\n",
       "      <td>2018-02-13</td>\n",
       "      <td>257.290009</td>\n",
       "      <td>261.410004</td>\n",
       "      <td>254.699997</td>\n",
       "      <td>258.269989</td>\n",
       "      <td>258.269989</td>\n",
       "      <td>6855200</td>\n",
       "    </tr>\n",
       "    <tr>\n",
       "      <th>7</th>\n",
       "      <td>2018-02-14</td>\n",
       "      <td>260.470001</td>\n",
       "      <td>269.880005</td>\n",
       "      <td>260.329987</td>\n",
       "      <td>266.000000</td>\n",
       "      <td>266.000000</td>\n",
       "      <td>10972000</td>\n",
       "    </tr>\n",
       "    <tr>\n",
       "      <th>8</th>\n",
       "      <td>2018-02-15</td>\n",
       "      <td>270.029999</td>\n",
       "      <td>280.500000</td>\n",
       "      <td>267.630005</td>\n",
       "      <td>280.269989</td>\n",
       "      <td>280.269989</td>\n",
       "      <td>10759700</td>\n",
       "    </tr>\n",
       "    <tr>\n",
       "      <th>9</th>\n",
       "      <td>2018-02-16</td>\n",
       "      <td>278.730011</td>\n",
       "      <td>281.959991</td>\n",
       "      <td>275.690002</td>\n",
       "      <td>278.519989</td>\n",
       "      <td>278.519989</td>\n",
       "      <td>8312400</td>\n",
       "    </tr>\n",
       "  </tbody>\n",
       "</table>\n",
       "</div>"
      ],
      "text/plain": [
       "         Date        Open        High         Low       Close   Adj Close  \\\n",
       "0  2018-02-05  262.000000  267.899994  250.029999  254.259995  254.259995   \n",
       "1  2018-02-06  247.699997  266.700012  245.000000  265.720001  265.720001   \n",
       "2  2018-02-07  266.579987  272.450012  264.329987  264.559998  264.559998   \n",
       "3  2018-02-08  267.079987  267.619995  250.000000  250.100006  250.100006   \n",
       "4  2018-02-09  253.850006  255.800003  236.110001  249.470001  249.470001   \n",
       "5  2018-02-12  252.139999  259.149994  249.000000  257.950012  257.950012   \n",
       "6  2018-02-13  257.290009  261.410004  254.699997  258.269989  258.269989   \n",
       "7  2018-02-14  260.470001  269.880005  260.329987  266.000000  266.000000   \n",
       "8  2018-02-15  270.029999  280.500000  267.630005  280.269989  280.269989   \n",
       "9  2018-02-16  278.730011  281.959991  275.690002  278.519989  278.519989   \n",
       "\n",
       "     Volume  \n",
       "0  11896100  \n",
       "1  12595800  \n",
       "2   8981500  \n",
       "3   9306700  \n",
       "4  16906900  \n",
       "5   8534900  \n",
       "6   6855200  \n",
       "7  10972000  \n",
       "8  10759700  \n",
       "9   8312400  "
      ]
     },
     "execution_count": 36,
     "metadata": {},
     "output_type": "execute_result"
    }
   ],
   "source": [
    "df.head(10)"
   ]
  },
  {
   "cell_type": "code",
   "execution_count": 37,
   "metadata": {
    "execution": {
     "iopub.execute_input": "2023-04-18T17:46:08.696771Z",
     "iopub.status.busy": "2023-04-18T17:46:08.696468Z",
     "iopub.status.idle": "2023-04-18T17:46:08.706511Z",
     "shell.execute_reply": "2023-04-18T17:46:08.705356Z",
     "shell.execute_reply.started": "2023-04-18T17:46:08.696741Z"
    }
   },
   "outputs": [],
   "source": [
    "viz = df.copy()"
   ]
  },
  {
   "cell_type": "code",
   "execution_count": 38,
   "metadata": {
    "execution": {
     "iopub.execute_input": "2023-04-18T17:46:08.710292Z",
     "iopub.status.busy": "2023-04-18T17:46:08.709935Z",
     "iopub.status.idle": "2023-04-18T17:46:08.721772Z",
     "shell.execute_reply": "2023-04-18T17:46:08.720325Z",
     "shell.execute_reply.started": "2023-04-18T17:46:08.710245Z"
    }
   },
   "outputs": [
    {
     "data": {
      "text/plain": [
       "Date         0\n",
       "Open         0\n",
       "High         0\n",
       "Low          0\n",
       "Close        0\n",
       "Adj Close    0\n",
       "Volume       0\n",
       "dtype: int64"
      ]
     },
     "execution_count": 38,
     "metadata": {},
     "output_type": "execute_result"
    }
   ],
   "source": [
    "df.isnull().sum()"
   ]
  },
  {
   "cell_type": "code",
   "execution_count": 39,
   "metadata": {
    "execution": {
     "iopub.execute_input": "2023-04-18T17:46:08.723293Z",
     "iopub.status.busy": "2023-04-18T17:46:08.722975Z",
     "iopub.status.idle": "2023-04-18T17:46:08.733857Z",
     "shell.execute_reply": "2023-04-18T17:46:08.732392Z",
     "shell.execute_reply.started": "2023-04-18T17:46:08.723248Z"
    }
   },
   "outputs": [
    {
     "data": {
      "text/plain": [
       "(1009, 7)"
      ]
     },
     "execution_count": 39,
     "metadata": {},
     "output_type": "execute_result"
    }
   ],
   "source": [
    "df.shape"
   ]
  },
  {
   "cell_type": "code",
   "execution_count": 40,
   "metadata": {
    "execution": {
     "iopub.execute_input": "2023-04-18T17:46:08.735947Z",
     "iopub.status.busy": "2023-04-18T17:46:08.735571Z",
     "iopub.status.idle": "2023-04-18T17:46:08.766584Z",
     "shell.execute_reply": "2023-04-18T17:46:08.765118Z",
     "shell.execute_reply.started": "2023-04-18T17:46:08.735917Z"
    }
   },
   "outputs": [
    {
     "name": "stdout",
     "output_type": "stream",
     "text": [
      "<class 'pandas.core.frame.DataFrame'>\n",
      "RangeIndex: 1009 entries, 0 to 1008\n",
      "Data columns (total 7 columns):\n",
      " #   Column     Non-Null Count  Dtype  \n",
      "---  ------     --------------  -----  \n",
      " 0   Date       1009 non-null   object \n",
      " 1   Open       1009 non-null   float64\n",
      " 2   High       1009 non-null   float64\n",
      " 3   Low        1009 non-null   float64\n",
      " 4   Close      1009 non-null   float64\n",
      " 5   Adj Close  1009 non-null   float64\n",
      " 6   Volume     1009 non-null   int64  \n",
      "dtypes: float64(5), int64(1), object(1)\n",
      "memory usage: 55.3+ KB\n"
     ]
    }
   ],
   "source": [
    "df.info()"
   ]
  },
  {
   "cell_type": "code",
   "execution_count": 41,
   "metadata": {
    "execution": {
     "iopub.execute_input": "2023-04-18T17:46:08.768912Z",
     "iopub.status.busy": "2023-04-18T17:46:08.768295Z",
     "iopub.status.idle": "2023-04-18T17:46:08.812868Z",
     "shell.execute_reply": "2023-04-18T17:46:08.811675Z",
     "shell.execute_reply.started": "2023-04-18T17:46:08.768839Z"
    }
   },
   "outputs": [
    {
     "data": {
      "text/html": [
       "<div>\n",
       "<style scoped>\n",
       "    .dataframe tbody tr th:only-of-type {\n",
       "        vertical-align: middle;\n",
       "    }\n",
       "\n",
       "    .dataframe tbody tr th {\n",
       "        vertical-align: top;\n",
       "    }\n",
       "\n",
       "    .dataframe thead th {\n",
       "        text-align: right;\n",
       "    }\n",
       "</style>\n",
       "<table border=\"1\" class=\"dataframe\">\n",
       "  <thead>\n",
       "    <tr style=\"text-align: right;\">\n",
       "      <th></th>\n",
       "      <th>count</th>\n",
       "      <th>mean</th>\n",
       "      <th>std</th>\n",
       "      <th>min</th>\n",
       "      <th>25%</th>\n",
       "      <th>50%</th>\n",
       "      <th>75%</th>\n",
       "      <th>max</th>\n",
       "    </tr>\n",
       "  </thead>\n",
       "  <tbody>\n",
       "    <tr>\n",
       "      <th>Open</th>\n",
       "      <td>1009.0</td>\n",
       "      <td>4.190597e+02</td>\n",
       "      <td>1.085375e+02</td>\n",
       "      <td>2.339200e+02</td>\n",
       "      <td>3.314900e+02</td>\n",
       "      <td>3.777700e+02</td>\n",
       "      <td>5.091300e+02</td>\n",
       "      <td>6.923500e+02</td>\n",
       "    </tr>\n",
       "    <tr>\n",
       "      <th>High</th>\n",
       "      <td>1009.0</td>\n",
       "      <td>4.253207e+02</td>\n",
       "      <td>1.092630e+02</td>\n",
       "      <td>2.506500e+02</td>\n",
       "      <td>3.363000e+02</td>\n",
       "      <td>3.830100e+02</td>\n",
       "      <td>5.156300e+02</td>\n",
       "      <td>7.009900e+02</td>\n",
       "    </tr>\n",
       "    <tr>\n",
       "      <th>Low</th>\n",
       "      <td>1009.0</td>\n",
       "      <td>4.123740e+02</td>\n",
       "      <td>1.075559e+02</td>\n",
       "      <td>2.312300e+02</td>\n",
       "      <td>3.260000e+02</td>\n",
       "      <td>3.708800e+02</td>\n",
       "      <td>5.025300e+02</td>\n",
       "      <td>6.860900e+02</td>\n",
       "    </tr>\n",
       "    <tr>\n",
       "      <th>Close</th>\n",
       "      <td>1009.0</td>\n",
       "      <td>4.190007e+02</td>\n",
       "      <td>1.082900e+02</td>\n",
       "      <td>2.338800e+02</td>\n",
       "      <td>3.316200e+02</td>\n",
       "      <td>3.786700e+02</td>\n",
       "      <td>5.090800e+02</td>\n",
       "      <td>6.916900e+02</td>\n",
       "    </tr>\n",
       "    <tr>\n",
       "      <th>Adj Close</th>\n",
       "      <td>1009.0</td>\n",
       "      <td>4.190007e+02</td>\n",
       "      <td>1.082900e+02</td>\n",
       "      <td>2.338800e+02</td>\n",
       "      <td>3.316200e+02</td>\n",
       "      <td>3.786700e+02</td>\n",
       "      <td>5.090800e+02</td>\n",
       "      <td>6.916900e+02</td>\n",
       "    </tr>\n",
       "    <tr>\n",
       "      <th>Volume</th>\n",
       "      <td>1009.0</td>\n",
       "      <td>7.570685e+06</td>\n",
       "      <td>5.465535e+06</td>\n",
       "      <td>1.144000e+06</td>\n",
       "      <td>4.091900e+06</td>\n",
       "      <td>5.934500e+06</td>\n",
       "      <td>9.322400e+06</td>\n",
       "      <td>5.890430e+07</td>\n",
       "    </tr>\n",
       "  </tbody>\n",
       "</table>\n",
       "</div>"
      ],
      "text/plain": [
       "            count          mean           std           min           25%  \\\n",
       "Open       1009.0  4.190597e+02  1.085375e+02  2.339200e+02  3.314900e+02   \n",
       "High       1009.0  4.253207e+02  1.092630e+02  2.506500e+02  3.363000e+02   \n",
       "Low        1009.0  4.123740e+02  1.075559e+02  2.312300e+02  3.260000e+02   \n",
       "Close      1009.0  4.190007e+02  1.082900e+02  2.338800e+02  3.316200e+02   \n",
       "Adj Close  1009.0  4.190007e+02  1.082900e+02  2.338800e+02  3.316200e+02   \n",
       "Volume     1009.0  7.570685e+06  5.465535e+06  1.144000e+06  4.091900e+06   \n",
       "\n",
       "                    50%           75%           max  \n",
       "Open       3.777700e+02  5.091300e+02  6.923500e+02  \n",
       "High       3.830100e+02  5.156300e+02  7.009900e+02  \n",
       "Low        3.708800e+02  5.025300e+02  6.860900e+02  \n",
       "Close      3.786700e+02  5.090800e+02  6.916900e+02  \n",
       "Adj Close  3.786700e+02  5.090800e+02  6.916900e+02  \n",
       "Volume     5.934500e+06  9.322400e+06  5.890430e+07  "
      ]
     },
     "execution_count": 41,
     "metadata": {},
     "output_type": "execute_result"
    }
   ],
   "source": [
    "df.describe().T"
   ]
  },
  {
   "cell_type": "code",
   "execution_count": 42,
   "metadata": {
    "execution": {
     "iopub.execute_input": "2023-04-18T17:46:08.814618Z",
     "iopub.status.busy": "2023-04-18T17:46:08.814296Z",
     "iopub.status.idle": "2023-04-18T17:46:08.830337Z",
     "shell.execute_reply": "2023-04-18T17:46:08.82823Z",
     "shell.execute_reply.started": "2023-04-18T17:46:08.814586Z"
    }
   },
   "outputs": [],
   "source": [
    "train, test = train_test_split(df, test_size = 0.2)"
   ]
  },
  {
   "cell_type": "code",
   "execution_count": 43,
   "metadata": {
    "execution": {
     "iopub.execute_input": "2023-04-18T17:46:08.83502Z",
     "iopub.status.busy": "2023-04-18T17:46:08.833226Z",
     "iopub.status.idle": "2023-04-18T17:46:08.844085Z",
     "shell.execute_reply": "2023-04-18T17:46:08.842045Z",
     "shell.execute_reply.started": "2023-04-18T17:46:08.834952Z"
    }
   },
   "outputs": [],
   "source": [
    "test_pred = test.copy()"
   ]
  },
  {
   "cell_type": "code",
   "execution_count": 44,
   "metadata": {
    "execution": {
     "iopub.execute_input": "2023-04-18T17:46:08.84973Z",
     "iopub.status.busy": "2023-04-18T17:46:08.848469Z",
     "iopub.status.idle": "2023-04-18T17:46:08.871629Z",
     "shell.execute_reply": "2023-04-18T17:46:08.870029Z",
     "shell.execute_reply.started": "2023-04-18T17:46:08.849624Z"
    }
   },
   "outputs": [
    {
     "data": {
      "text/html": [
       "<div>\n",
       "<style scoped>\n",
       "    .dataframe tbody tr th:only-of-type {\n",
       "        vertical-align: middle;\n",
       "    }\n",
       "\n",
       "    .dataframe tbody tr th {\n",
       "        vertical-align: top;\n",
       "    }\n",
       "\n",
       "    .dataframe thead th {\n",
       "        text-align: right;\n",
       "    }\n",
       "</style>\n",
       "<table border=\"1\" class=\"dataframe\">\n",
       "  <thead>\n",
       "    <tr style=\"text-align: right;\">\n",
       "      <th></th>\n",
       "      <th>Date</th>\n",
       "      <th>Open</th>\n",
       "      <th>High</th>\n",
       "      <th>Low</th>\n",
       "      <th>Close</th>\n",
       "      <th>Adj Close</th>\n",
       "      <th>Volume</th>\n",
       "    </tr>\n",
       "  </thead>\n",
       "  <tbody>\n",
       "    <tr>\n",
       "      <th>685</th>\n",
       "      <td>2020-10-23</td>\n",
       "      <td>488.109985</td>\n",
       "      <td>490.059998</td>\n",
       "      <td>481.350006</td>\n",
       "      <td>488.279999</td>\n",
       "      <td>488.279999</td>\n",
       "      <td>4927900</td>\n",
       "    </tr>\n",
       "    <tr>\n",
       "      <th>400</th>\n",
       "      <td>2019-09-09</td>\n",
       "      <td>294.809998</td>\n",
       "      <td>301.549988</td>\n",
       "      <td>290.600006</td>\n",
       "      <td>294.339996</td>\n",
       "      <td>294.339996</td>\n",
       "      <td>8232700</td>\n",
       "    </tr>\n",
       "    <tr>\n",
       "      <th>582</th>\n",
       "      <td>2020-05-29</td>\n",
       "      <td>417.459991</td>\n",
       "      <td>420.299988</td>\n",
       "      <td>411.850006</td>\n",
       "      <td>419.730011</td>\n",
       "      <td>419.730011</td>\n",
       "      <td>5254900</td>\n",
       "    </tr>\n",
       "    <tr>\n",
       "      <th>617</th>\n",
       "      <td>2020-07-20</td>\n",
       "      <td>489.140015</td>\n",
       "      <td>504.500000</td>\n",
       "      <td>484.200012</td>\n",
       "      <td>502.410004</td>\n",
       "      <td>502.410004</td>\n",
       "      <td>11940300</td>\n",
       "    </tr>\n",
       "    <tr>\n",
       "      <th>956</th>\n",
       "      <td>2021-11-19</td>\n",
       "      <td>692.349976</td>\n",
       "      <td>694.159973</td>\n",
       "      <td>675.000000</td>\n",
       "      <td>678.799988</td>\n",
       "      <td>678.799988</td>\n",
       "      <td>2613700</td>\n",
       "    </tr>\n",
       "    <tr>\n",
       "      <th>872</th>\n",
       "      <td>2021-07-23</td>\n",
       "      <td>512.159973</td>\n",
       "      <td>517.409973</td>\n",
       "      <td>504.660004</td>\n",
       "      <td>515.409973</td>\n",
       "      <td>515.409973</td>\n",
       "      <td>3820500</td>\n",
       "    </tr>\n",
       "    <tr>\n",
       "      <th>848</th>\n",
       "      <td>2021-06-18</td>\n",
       "      <td>496.399994</td>\n",
       "      <td>504.489990</td>\n",
       "      <td>495.239990</td>\n",
       "      <td>500.769989</td>\n",
       "      <td>500.769989</td>\n",
       "      <td>5197600</td>\n",
       "    </tr>\n",
       "    <tr>\n",
       "      <th>962</th>\n",
       "      <td>2021-11-30</td>\n",
       "      <td>668.200012</td>\n",
       "      <td>675.380005</td>\n",
       "      <td>640.010010</td>\n",
       "      <td>641.900024</td>\n",
       "      <td>641.900024</td>\n",
       "      <td>5608900</td>\n",
       "    </tr>\n",
       "    <tr>\n",
       "      <th>446</th>\n",
       "      <td>2019-11-12</td>\n",
       "      <td>295.320007</td>\n",
       "      <td>295.350006</td>\n",
       "      <td>288.700012</td>\n",
       "      <td>292.010010</td>\n",
       "      <td>292.010010</td>\n",
       "      <td>5772800</td>\n",
       "    </tr>\n",
       "    <tr>\n",
       "      <th>1005</th>\n",
       "      <td>2022-02-01</td>\n",
       "      <td>432.959991</td>\n",
       "      <td>458.480011</td>\n",
       "      <td>425.540009</td>\n",
       "      <td>457.130005</td>\n",
       "      <td>457.130005</td>\n",
       "      <td>22542300</td>\n",
       "    </tr>\n",
       "  </tbody>\n",
       "</table>\n",
       "</div>"
      ],
      "text/plain": [
       "            Date        Open        High         Low       Close   Adj Close  \\\n",
       "685   2020-10-23  488.109985  490.059998  481.350006  488.279999  488.279999   \n",
       "400   2019-09-09  294.809998  301.549988  290.600006  294.339996  294.339996   \n",
       "582   2020-05-29  417.459991  420.299988  411.850006  419.730011  419.730011   \n",
       "617   2020-07-20  489.140015  504.500000  484.200012  502.410004  502.410004   \n",
       "956   2021-11-19  692.349976  694.159973  675.000000  678.799988  678.799988   \n",
       "872   2021-07-23  512.159973  517.409973  504.660004  515.409973  515.409973   \n",
       "848   2021-06-18  496.399994  504.489990  495.239990  500.769989  500.769989   \n",
       "962   2021-11-30  668.200012  675.380005  640.010010  641.900024  641.900024   \n",
       "446   2019-11-12  295.320007  295.350006  288.700012  292.010010  292.010010   \n",
       "1005  2022-02-01  432.959991  458.480011  425.540009  457.130005  457.130005   \n",
       "\n",
       "        Volume  \n",
       "685    4927900  \n",
       "400    8232700  \n",
       "582    5254900  \n",
       "617   11940300  \n",
       "956    2613700  \n",
       "872    3820500  \n",
       "848    5197600  \n",
       "962    5608900  \n",
       "446    5772800  \n",
       "1005  22542300  "
      ]
     },
     "execution_count": 44,
     "metadata": {},
     "output_type": "execute_result"
    }
   ],
   "source": [
    "train.head(10)"
   ]
  },
  {
   "cell_type": "code",
   "execution_count": 45,
   "metadata": {
    "execution": {
     "iopub.execute_input": "2023-04-18T17:46:08.874929Z",
     "iopub.status.busy": "2023-04-18T17:46:08.873311Z",
     "iopub.status.idle": "2023-04-18T17:46:08.894047Z",
     "shell.execute_reply": "2023-04-18T17:46:08.892557Z",
     "shell.execute_reply.started": "2023-04-18T17:46:08.874885Z"
    }
   },
   "outputs": [
    {
     "data": {
      "text/html": [
       "<div>\n",
       "<style scoped>\n",
       "    .dataframe tbody tr th:only-of-type {\n",
       "        vertical-align: middle;\n",
       "    }\n",
       "\n",
       "    .dataframe tbody tr th {\n",
       "        vertical-align: top;\n",
       "    }\n",
       "\n",
       "    .dataframe thead th {\n",
       "        text-align: right;\n",
       "    }\n",
       "</style>\n",
       "<table border=\"1\" class=\"dataframe\">\n",
       "  <thead>\n",
       "    <tr style=\"text-align: right;\">\n",
       "      <th></th>\n",
       "      <th>Date</th>\n",
       "      <th>Open</th>\n",
       "      <th>High</th>\n",
       "      <th>Low</th>\n",
       "      <th>Close</th>\n",
       "      <th>Adj Close</th>\n",
       "      <th>Volume</th>\n",
       "    </tr>\n",
       "  </thead>\n",
       "  <tbody>\n",
       "    <tr>\n",
       "      <th>332</th>\n",
       "      <td>2019-06-03</td>\n",
       "      <td>343.559998</td>\n",
       "      <td>347.660004</td>\n",
       "      <td>332.649994</td>\n",
       "      <td>336.630005</td>\n",
       "      <td>336.630005</td>\n",
       "      <td>7849600</td>\n",
       "    </tr>\n",
       "    <tr>\n",
       "      <th>274</th>\n",
       "      <td>2019-03-11</td>\n",
       "      <td>352.000000</td>\n",
       "      <td>358.980011</td>\n",
       "      <td>350.029999</td>\n",
       "      <td>358.859985</td>\n",
       "      <td>358.859985</td>\n",
       "      <td>5387300</td>\n",
       "    </tr>\n",
       "    <tr>\n",
       "      <th>102</th>\n",
       "      <td>2018-07-02</td>\n",
       "      <td>385.450012</td>\n",
       "      <td>398.380005</td>\n",
       "      <td>380.000000</td>\n",
       "      <td>398.179993</td>\n",
       "      <td>398.179993</td>\n",
       "      <td>8142500</td>\n",
       "    </tr>\n",
       "    <tr>\n",
       "      <th>948</th>\n",
       "      <td>2021-11-09</td>\n",
       "      <td>653.700012</td>\n",
       "      <td>660.500000</td>\n",
       "      <td>650.520020</td>\n",
       "      <td>655.989990</td>\n",
       "      <td>655.989990</td>\n",
       "      <td>2415600</td>\n",
       "    </tr>\n",
       "    <tr>\n",
       "      <th>622</th>\n",
       "      <td>2020-07-27</td>\n",
       "      <td>484.510010</td>\n",
       "      <td>496.920013</td>\n",
       "      <td>482.309998</td>\n",
       "      <td>495.649994</td>\n",
       "      <td>495.649994</td>\n",
       "      <td>7863100</td>\n",
       "    </tr>\n",
       "    <tr>\n",
       "      <th>318</th>\n",
       "      <td>2019-05-13</td>\n",
       "      <td>352.290009</td>\n",
       "      <td>354.260010</td>\n",
       "      <td>343.100006</td>\n",
       "      <td>345.260010</td>\n",
       "      <td>345.260010</td>\n",
       "      <td>8026700</td>\n",
       "    </tr>\n",
       "    <tr>\n",
       "      <th>662</th>\n",
       "      <td>2020-09-22</td>\n",
       "      <td>489.010010</td>\n",
       "      <td>491.820007</td>\n",
       "      <td>479.260010</td>\n",
       "      <td>491.170013</td>\n",
       "      <td>491.170013</td>\n",
       "      <td>3482300</td>\n",
       "    </tr>\n",
       "    <tr>\n",
       "      <th>401</th>\n",
       "      <td>2019-09-10</td>\n",
       "      <td>291.160004</td>\n",
       "      <td>297.170013</td>\n",
       "      <td>282.660004</td>\n",
       "      <td>287.989990</td>\n",
       "      <td>287.989990</td>\n",
       "      <td>12320200</td>\n",
       "    </tr>\n",
       "    <tr>\n",
       "      <th>611</th>\n",
       "      <td>2020-07-10</td>\n",
       "      <td>519.729980</td>\n",
       "      <td>555.880005</td>\n",
       "      <td>511.279999</td>\n",
       "      <td>548.729980</td>\n",
       "      <td>548.729980</td>\n",
       "      <td>21605600</td>\n",
       "    </tr>\n",
       "    <tr>\n",
       "      <th>46</th>\n",
       "      <td>2018-04-12</td>\n",
       "      <td>309.720001</td>\n",
       "      <td>311.130005</td>\n",
       "      <td>306.750000</td>\n",
       "      <td>309.250000</td>\n",
       "      <td>309.250000</td>\n",
       "      <td>10249400</td>\n",
       "    </tr>\n",
       "  </tbody>\n",
       "</table>\n",
       "</div>"
      ],
      "text/plain": [
       "           Date        Open        High         Low       Close   Adj Close  \\\n",
       "332  2019-06-03  343.559998  347.660004  332.649994  336.630005  336.630005   \n",
       "274  2019-03-11  352.000000  358.980011  350.029999  358.859985  358.859985   \n",
       "102  2018-07-02  385.450012  398.380005  380.000000  398.179993  398.179993   \n",
       "948  2021-11-09  653.700012  660.500000  650.520020  655.989990  655.989990   \n",
       "622  2020-07-27  484.510010  496.920013  482.309998  495.649994  495.649994   \n",
       "318  2019-05-13  352.290009  354.260010  343.100006  345.260010  345.260010   \n",
       "662  2020-09-22  489.010010  491.820007  479.260010  491.170013  491.170013   \n",
       "401  2019-09-10  291.160004  297.170013  282.660004  287.989990  287.989990   \n",
       "611  2020-07-10  519.729980  555.880005  511.279999  548.729980  548.729980   \n",
       "46   2018-04-12  309.720001  311.130005  306.750000  309.250000  309.250000   \n",
       "\n",
       "       Volume  \n",
       "332   7849600  \n",
       "274   5387300  \n",
       "102   8142500  \n",
       "948   2415600  \n",
       "622   7863100  \n",
       "318   8026700  \n",
       "662   3482300  \n",
       "401  12320200  \n",
       "611  21605600  \n",
       "46   10249400  "
      ]
     },
     "execution_count": 45,
     "metadata": {},
     "output_type": "execute_result"
    }
   ],
   "source": [
    "test.head(10)"
   ]
  },
  {
   "cell_type": "code",
   "execution_count": 46,
   "metadata": {
    "execution": {
     "iopub.execute_input": "2023-04-18T17:46:08.896824Z",
     "iopub.status.busy": "2023-04-18T17:46:08.8957Z",
     "iopub.status.idle": "2023-04-18T17:46:08.904112Z",
     "shell.execute_reply": "2023-04-18T17:46:08.903148Z",
     "shell.execute_reply.started": "2023-04-18T17:46:08.896784Z"
    }
   },
   "outputs": [],
   "source": [
    "x_train = train[['Open', 'High', 'Low', 'Volume']].values\n",
    "x_test = test[['Open', 'High', 'Low', 'Volume']].values"
   ]
  },
  {
   "cell_type": "code",
   "execution_count": 47,
   "metadata": {
    "execution": {
     "iopub.execute_input": "2023-04-18T17:46:08.908673Z",
     "iopub.status.busy": "2023-04-18T17:46:08.908292Z",
     "iopub.status.idle": "2023-04-18T17:46:08.918432Z",
     "shell.execute_reply": "2023-04-18T17:46:08.917117Z",
     "shell.execute_reply.started": "2023-04-18T17:46:08.908637Z"
    }
   },
   "outputs": [],
   "source": [
    "y_train = train['Close'].values\n",
    "y_test = test['Close'].values"
   ]
  },
  {
   "cell_type": "code",
   "execution_count": 48,
   "metadata": {
    "execution": {
     "iopub.execute_input": "2023-04-18T17:46:08.920938Z",
     "iopub.status.busy": "2023-04-18T17:46:08.919914Z",
     "iopub.status.idle": "2023-04-18T17:46:08.956296Z",
     "shell.execute_reply": "2023-04-18T17:46:08.955114Z",
     "shell.execute_reply.started": "2023-04-18T17:46:08.920886Z"
    }
   },
   "outputs": [
    {
     "data": {
      "text/html": [
       "<style>#sk-container-id-2 {color: black;background-color: white;}#sk-container-id-2 pre{padding: 0;}#sk-container-id-2 div.sk-toggleable {background-color: white;}#sk-container-id-2 label.sk-toggleable__label {cursor: pointer;display: block;width: 100%;margin-bottom: 0;padding: 0.3em;box-sizing: border-box;text-align: center;}#sk-container-id-2 label.sk-toggleable__label-arrow:before {content: \"▸\";float: left;margin-right: 0.25em;color: #696969;}#sk-container-id-2 label.sk-toggleable__label-arrow:hover:before {color: black;}#sk-container-id-2 div.sk-estimator:hover label.sk-toggleable__label-arrow:before {color: black;}#sk-container-id-2 div.sk-toggleable__content {max-height: 0;max-width: 0;overflow: hidden;text-align: left;background-color: #f0f8ff;}#sk-container-id-2 div.sk-toggleable__content pre {margin: 0.2em;color: black;border-radius: 0.25em;background-color: #f0f8ff;}#sk-container-id-2 input.sk-toggleable__control:checked~div.sk-toggleable__content {max-height: 200px;max-width: 100%;overflow: auto;}#sk-container-id-2 input.sk-toggleable__control:checked~label.sk-toggleable__label-arrow:before {content: \"▾\";}#sk-container-id-2 div.sk-estimator input.sk-toggleable__control:checked~label.sk-toggleable__label {background-color: #d4ebff;}#sk-container-id-2 div.sk-label input.sk-toggleable__control:checked~label.sk-toggleable__label {background-color: #d4ebff;}#sk-container-id-2 input.sk-hidden--visually {border: 0;clip: rect(1px 1px 1px 1px);clip: rect(1px, 1px, 1px, 1px);height: 1px;margin: -1px;overflow: hidden;padding: 0;position: absolute;width: 1px;}#sk-container-id-2 div.sk-estimator {font-family: monospace;background-color: #f0f8ff;border: 1px dotted black;border-radius: 0.25em;box-sizing: border-box;margin-bottom: 0.5em;}#sk-container-id-2 div.sk-estimator:hover {background-color: #d4ebff;}#sk-container-id-2 div.sk-parallel-item::after {content: \"\";width: 100%;border-bottom: 1px solid gray;flex-grow: 1;}#sk-container-id-2 div.sk-label:hover label.sk-toggleable__label {background-color: #d4ebff;}#sk-container-id-2 div.sk-serial::before {content: \"\";position: absolute;border-left: 1px solid gray;box-sizing: border-box;top: 0;bottom: 0;left: 50%;z-index: 0;}#sk-container-id-2 div.sk-serial {display: flex;flex-direction: column;align-items: center;background-color: white;padding-right: 0.2em;padding-left: 0.2em;position: relative;}#sk-container-id-2 div.sk-item {position: relative;z-index: 1;}#sk-container-id-2 div.sk-parallel {display: flex;align-items: stretch;justify-content: center;background-color: white;position: relative;}#sk-container-id-2 div.sk-item::before, #sk-container-id-2 div.sk-parallel-item::before {content: \"\";position: absolute;border-left: 1px solid gray;box-sizing: border-box;top: 0;bottom: 0;left: 50%;z-index: -1;}#sk-container-id-2 div.sk-parallel-item {display: flex;flex-direction: column;z-index: 1;position: relative;background-color: white;}#sk-container-id-2 div.sk-parallel-item:first-child::after {align-self: flex-end;width: 50%;}#sk-container-id-2 div.sk-parallel-item:last-child::after {align-self: flex-start;width: 50%;}#sk-container-id-2 div.sk-parallel-item:only-child::after {width: 0;}#sk-container-id-2 div.sk-dashed-wrapped {border: 1px dashed gray;margin: 0 0.4em 0.5em 0.4em;box-sizing: border-box;padding-bottom: 0.4em;background-color: white;}#sk-container-id-2 div.sk-label label {font-family: monospace;font-weight: bold;display: inline-block;line-height: 1.2em;}#sk-container-id-2 div.sk-label-container {text-align: center;}#sk-container-id-2 div.sk-container {/* jupyter's `normalize.less` sets `[hidden] { display: none; }` but bootstrap.min.css set `[hidden] { display: none !important; }` so we also need the `!important` here to be able to override the default hidden behavior on the sphinx rendered scikit-learn.org. See: https://github.com/scikit-learn/scikit-learn/issues/21755 */display: inline-block !important;position: relative;}#sk-container-id-2 div.sk-text-repr-fallback {display: none;}</style><div id=\"sk-container-id-2\" class=\"sk-top-container\"><div class=\"sk-text-repr-fallback\"><pre>LinearRegression()</pre><b>In a Jupyter environment, please rerun this cell to show the HTML representation or trust the notebook. <br />On GitHub, the HTML representation is unable to render, please try loading this page with nbviewer.org.</b></div><div class=\"sk-container\" hidden><div class=\"sk-item\"><div class=\"sk-estimator sk-toggleable\"><input class=\"sk-toggleable__control sk-hidden--visually\" id=\"sk-estimator-id-2\" type=\"checkbox\" checked><label for=\"sk-estimator-id-2\" class=\"sk-toggleable__label sk-toggleable__label-arrow\">LinearRegression</label><div class=\"sk-toggleable__content\"><pre>LinearRegression()</pre></div></div></div></div></div>"
      ],
      "text/plain": [
       "LinearRegression()"
      ]
     },
     "execution_count": 48,
     "metadata": {},
     "output_type": "execute_result"
    }
   ],
   "source": [
    "model_lnr = LinearRegression()\n",
    "model_lnr.fit(x_train, y_train)"
   ]
  },
  {
   "cell_type": "code",
   "execution_count": 49,
   "metadata": {
    "execution": {
     "iopub.execute_input": "2023-04-18T17:46:08.958812Z",
     "iopub.status.busy": "2023-04-18T17:46:08.958009Z",
     "iopub.status.idle": "2023-04-18T17:46:08.964342Z",
     "shell.execute_reply": "2023-04-18T17:46:08.963351Z",
     "shell.execute_reply.started": "2023-04-18T17:46:08.95877Z"
    }
   },
   "outputs": [],
   "source": [
    "y_pred = model_lnr.predict(x_test)"
   ]
  },
  {
   "cell_type": "code",
   "execution_count": 50,
   "metadata": {
    "execution": {
     "iopub.execute_input": "2023-04-18T17:46:08.966721Z",
     "iopub.status.busy": "2023-04-18T17:46:08.965998Z",
     "iopub.status.idle": "2023-04-18T17:46:08.978716Z",
     "shell.execute_reply": "2023-04-18T17:46:08.977279Z",
     "shell.execute_reply.started": "2023-04-18T17:46:08.966676Z"
    }
   },
   "outputs": [
    {
     "name": "stdout",
     "output_type": "stream",
     "text": [
      "[257.52898582]\n"
     ]
    }
   ],
   "source": [
    "result = model_lnr.predict([[262.000000, 267.899994, 250.029999, 11896100]])\n",
    "print(result)"
   ]
  },
  {
   "cell_type": "code",
   "execution_count": 51,
   "metadata": {
    "execution": {
     "iopub.execute_input": "2023-04-18T17:46:08.982287Z",
     "iopub.status.busy": "2023-04-18T17:46:08.980685Z",
     "iopub.status.idle": "2023-04-18T17:46:08.993975Z",
     "shell.execute_reply": "2023-04-18T17:46:08.99246Z",
     "shell.execute_reply.started": "2023-04-18T17:46:08.982215Z"
    }
   },
   "outputs": [
    {
     "name": "stdout",
     "output_type": "stream",
     "text": [
      "MSE 18.979\n",
      "RMSE 4.357\n",
      "MAE 3.071\n",
      "MAPE 0.008\n",
      "R2 Score :  0.998\n"
     ]
    }
   ],
   "source": [
    "print(\"MSE\",round(mean_squared_error(y_test,y_pred), 3))\n",
    "print(\"RMSE\",round(np.sqrt(mean_squared_error(y_test,y_pred)), 3))\n",
    "print(\"MAE\",round(mean_absolute_error(y_test,y_pred), 3))\n",
    "print(\"MAPE\",round(mean_absolute_percentage_error(y_test,y_pred), 3))\n",
    "print(\"R2 Score : \", round(r2_score(y_test,y_pred), 3))"
   ]
  },
  {
   "cell_type": "code",
   "execution_count": 52,
   "metadata": {
    "execution": {
     "iopub.execute_input": "2023-04-18T17:46:08.996653Z",
     "iopub.status.busy": "2023-04-18T17:46:08.995557Z",
     "iopub.status.idle": "2023-04-18T17:46:09.005509Z",
     "shell.execute_reply": "2023-04-18T17:46:09.003691Z",
     "shell.execute_reply.started": "2023-04-18T17:46:08.99661Z"
    }
   },
   "outputs": [],
   "source": [
    "def style():\n",
    "    plt.figure(facecolor='black', figsize=(15,10))\n",
    "    ax = plt.axes()\n",
    "\n",
    "    ax.tick_params(axis='x', colors='white')    #setting up X-axis tick color to white\n",
    "    ax.tick_params(axis='y', colors='white')    #setting up Y-axis tick color to white\n",
    "\n",
    "    ax.spines['left'].set_color('white')        #setting up Y-axis spine color to white\n",
    "    #ax.spines['right'].set_color('white')\n",
    "    #ax.spines['top'].set_color('white')\n",
    "    ax.spines['bottom'].set_color('white')      #setting up X-axis spine color to white\n",
    "\n",
    "    ax.set_facecolor(\"black\")                   # Setting the background color of the plot using set_facecolor() method"
   ]
  },
  {
   "cell_type": "code",
   "execution_count": 53,
   "metadata": {
    "execution": {
     "iopub.execute_input": "2023-04-18T17:46:09.008029Z",
     "iopub.status.busy": "2023-04-18T17:46:09.007045Z",
     "iopub.status.idle": "2023-04-18T17:46:09.027401Z",
     "shell.execute_reply": "2023-04-18T17:46:09.025553Z",
     "shell.execute_reply.started": "2023-04-18T17:46:09.007979Z"
    }
   },
   "outputs": [],
   "source": [
    "viz['Date']=pd.to_datetime(viz['Date'],format='%Y-%m-%d')"
   ]
  },
  {
   "cell_type": "code",
   "execution_count": 54,
   "metadata": {
    "execution": {
     "iopub.execute_input": "2023-04-18T17:46:09.029656Z",
     "iopub.status.busy": "2023-04-18T17:46:09.028953Z",
     "iopub.status.idle": "2023-04-18T17:46:09.069308Z",
     "shell.execute_reply": "2023-04-18T17:46:09.067943Z",
     "shell.execute_reply.started": "2023-04-18T17:46:09.029607Z"
    }
   },
   "outputs": [
    {
     "data": {
      "text/html": [
       "<div>\n",
       "<style scoped>\n",
       "    .dataframe tbody tr th:only-of-type {\n",
       "        vertical-align: middle;\n",
       "    }\n",
       "\n",
       "    .dataframe tbody tr th {\n",
       "        vertical-align: top;\n",
       "    }\n",
       "\n",
       "    .dataframe thead th {\n",
       "        text-align: right;\n",
       "    }\n",
       "</style>\n",
       "<table border=\"1\" class=\"dataframe\">\n",
       "  <thead>\n",
       "    <tr style=\"text-align: right;\">\n",
       "      <th></th>\n",
       "      <th>Close</th>\n",
       "    </tr>\n",
       "    <tr>\n",
       "      <th>Date</th>\n",
       "      <th></th>\n",
       "    </tr>\n",
       "  </thead>\n",
       "  <tbody>\n",
       "    <tr>\n",
       "      <th>2018-02-05</th>\n",
       "      <td>254.259995</td>\n",
       "    </tr>\n",
       "    <tr>\n",
       "      <th>2018-02-06</th>\n",
       "      <td>265.720001</td>\n",
       "    </tr>\n",
       "    <tr>\n",
       "      <th>2018-02-07</th>\n",
       "      <td>264.559998</td>\n",
       "    </tr>\n",
       "    <tr>\n",
       "      <th>2018-02-08</th>\n",
       "      <td>250.100006</td>\n",
       "    </tr>\n",
       "    <tr>\n",
       "      <th>2018-02-09</th>\n",
       "      <td>249.470001</td>\n",
       "    </tr>\n",
       "    <tr>\n",
       "      <th>...</th>\n",
       "      <td>...</td>\n",
       "    </tr>\n",
       "    <tr>\n",
       "      <th>2022-01-31</th>\n",
       "      <td>427.140015</td>\n",
       "    </tr>\n",
       "    <tr>\n",
       "      <th>2022-02-01</th>\n",
       "      <td>457.130005</td>\n",
       "    </tr>\n",
       "    <tr>\n",
       "      <th>2022-02-02</th>\n",
       "      <td>429.480011</td>\n",
       "    </tr>\n",
       "    <tr>\n",
       "      <th>2022-02-03</th>\n",
       "      <td>405.600006</td>\n",
       "    </tr>\n",
       "    <tr>\n",
       "      <th>2022-02-04</th>\n",
       "      <td>410.170013</td>\n",
       "    </tr>\n",
       "  </tbody>\n",
       "</table>\n",
       "<p>1461 rows × 1 columns</p>\n",
       "</div>"
      ],
      "text/plain": [
       "                 Close\n",
       "Date                  \n",
       "2018-02-05  254.259995\n",
       "2018-02-06  265.720001\n",
       "2018-02-07  264.559998\n",
       "2018-02-08  250.100006\n",
       "2018-02-09  249.470001\n",
       "...                ...\n",
       "2022-01-31  427.140015\n",
       "2022-02-01  457.130005\n",
       "2022-02-02  429.480011\n",
       "2022-02-03  405.600006\n",
       "2022-02-04  410.170013\n",
       "\n",
       "[1461 rows x 1 columns]"
      ]
     },
     "execution_count": 54,
     "metadata": {},
     "output_type": "execute_result"
    }
   ],
   "source": [
    "data = pd.DataFrame(viz[['Date','Close']])\n",
    "data=data.reset_index()\n",
    "data=data.drop('index',axis=1)\n",
    "data.set_index('Date', inplace=True)\n",
    "data = data.asfreq('D')\n",
    "data"
   ]
  },
  {
   "cell_type": "code",
   "execution_count": 55,
   "metadata": {
    "execution": {
     "iopub.execute_input": "2023-04-18T17:46:09.071647Z",
     "iopub.status.busy": "2023-04-18T17:46:09.070886Z",
     "iopub.status.idle": "2023-04-18T17:46:09.510787Z",
     "shell.execute_reply": "2023-04-18T17:46:09.509663Z",
     "shell.execute_reply.started": "2023-04-18T17:46:09.071601Z"
    }
   },
   "outputs": [
    {
     "data": {
      "text/plain": [
       "<matplotlib.legend.Legend at 0x1ec231461d0>"
      ]
     },
     "execution_count": 55,
     "metadata": {},
     "output_type": "execute_result"
    },
    {
     "data": {
      "image/png": "[encoded data removed]",
      "text/plain": [
       "<Figure size 1080x720 with 1 Axes>"
      ]
     },
     "metadata": {},
     "output_type": "display_data"
    }
   ],
   "source": [
    "style()\n",
    "\n",
    "plt.title('Closing Stock Price', color=\"white\")\n",
    "plt.plot(viz.Date, viz.Close, color=\"#94F008\")\n",
    "plt.legend([\"Close\"], loc =\"lower right\", facecolor='black', labelcolor='white')"
   ]
  },
  {
   "cell_type": "code",
   "execution_count": 56,
   "metadata": {
    "execution": {
     "iopub.execute_input": "2023-04-18T17:46:09.513167Z",
     "iopub.status.busy": "2023-04-18T17:46:09.512524Z",
     "iopub.status.idle": "2023-04-18T17:46:09.777591Z",
     "shell.execute_reply": "2023-04-18T17:46:09.776311Z",
     "shell.execute_reply.started": "2023-04-18T17:46:09.513124Z"
    }
   },
   "outputs": [
    {
     "data": {
      "text/plain": [
       "[<matplotlib.lines.Line2D at 0x1ec231dae00>]"
      ]
     },
     "execution_count": 56,
     "metadata": {},
     "output_type": "execute_result"
    },
    {
     "data": {
      "image/png": "[encoded data removed]",
      "text/plain": [
       "<Figure size 1080x720 with 1 Axes>"
      ]
     },
     "metadata": {},
     "output_type": "display_data"
    }
   ],
   "source": [
    "style()\n",
    "\n",
    "plt.scatter(y_pred, y_test, color='red', marker='o')\n",
    "plt.scatter(y_test, y_test, color='blue')\n",
    "plt.plot(y_test, y_test, color='lime')"
   ]
  },
  {
   "cell_type": "code",
   "execution_count": 57,
   "metadata": {
    "execution": {
     "iopub.execute_input": "2023-04-18T17:46:09.780363Z",
     "iopub.status.busy": "2023-04-18T17:46:09.779201Z",
     "iopub.status.idle": "2023-04-18T17:46:09.802039Z",
     "shell.execute_reply": "2023-04-18T17:46:09.800571Z",
     "shell.execute_reply.started": "2023-04-18T17:46:09.780302Z"
    }
   },
   "outputs": [
    {
     "data": {
      "text/html": [
       "<div>\n",
       "<style scoped>\n",
       "    .dataframe tbody tr th:only-of-type {\n",
       "        vertical-align: middle;\n",
       "    }\n",
       "\n",
       "    .dataframe tbody tr th {\n",
       "        vertical-align: top;\n",
       "    }\n",
       "\n",
       "    .dataframe thead th {\n",
       "        text-align: right;\n",
       "    }\n",
       "</style>\n",
       "<table border=\"1\" class=\"dataframe\">\n",
       "  <thead>\n",
       "    <tr style=\"text-align: right;\">\n",
       "      <th></th>\n",
       "      <th>Date</th>\n",
       "      <th>Open</th>\n",
       "      <th>High</th>\n",
       "      <th>Low</th>\n",
       "      <th>Close</th>\n",
       "      <th>Adj Close</th>\n",
       "      <th>Volume</th>\n",
       "      <th>Close_Prediction</th>\n",
       "    </tr>\n",
       "  </thead>\n",
       "  <tbody>\n",
       "    <tr>\n",
       "      <th>332</th>\n",
       "      <td>2019-06-03</td>\n",
       "      <td>343.559998</td>\n",
       "      <td>347.660004</td>\n",
       "      <td>332.649994</td>\n",
       "      <td>336.630005</td>\n",
       "      <td>336.630005</td>\n",
       "      <td>7849600</td>\n",
       "      <td>338.327292</td>\n",
       "    </tr>\n",
       "    <tr>\n",
       "      <th>274</th>\n",
       "      <td>2019-03-11</td>\n",
       "      <td>352.000000</td>\n",
       "      <td>358.980011</td>\n",
       "      <td>350.029999</td>\n",
       "      <td>358.859985</td>\n",
       "      <td>358.859985</td>\n",
       "      <td>5387300</td>\n",
       "      <td>356.229151</td>\n",
       "    </tr>\n",
       "    <tr>\n",
       "      <th>102</th>\n",
       "      <td>2018-07-02</td>\n",
       "      <td>385.450012</td>\n",
       "      <td>398.380005</td>\n",
       "      <td>380.000000</td>\n",
       "      <td>398.179993</td>\n",
       "      <td>398.179993</td>\n",
       "      <td>8142500</td>\n",
       "      <td>391.628178</td>\n",
       "    </tr>\n",
       "    <tr>\n",
       "      <th>948</th>\n",
       "      <td>2021-11-09</td>\n",
       "      <td>653.700012</td>\n",
       "      <td>660.500000</td>\n",
       "      <td>650.520020</td>\n",
       "      <td>655.989990</td>\n",
       "      <td>655.989990</td>\n",
       "      <td>2415600</td>\n",
       "      <td>656.589421</td>\n",
       "    </tr>\n",
       "    <tr>\n",
       "      <th>622</th>\n",
       "      <td>2020-07-27</td>\n",
       "      <td>484.510010</td>\n",
       "      <td>496.920013</td>\n",
       "      <td>482.309998</td>\n",
       "      <td>495.649994</td>\n",
       "      <td>495.649994</td>\n",
       "      <td>7863100</td>\n",
       "      <td>492.909997</td>\n",
       "    </tr>\n",
       "    <tr>\n",
       "      <th>...</th>\n",
       "      <td>...</td>\n",
       "      <td>...</td>\n",
       "      <td>...</td>\n",
       "      <td>...</td>\n",
       "      <td>...</td>\n",
       "      <td>...</td>\n",
       "      <td>...</td>\n",
       "      <td>...</td>\n",
       "    </tr>\n",
       "    <tr>\n",
       "      <th>250</th>\n",
       "      <td>2019-02-04</td>\n",
       "      <td>342.600006</td>\n",
       "      <td>352.000000</td>\n",
       "      <td>341.299988</td>\n",
       "      <td>351.339996</td>\n",
       "      <td>351.339996</td>\n",
       "      <td>9051400</td>\n",
       "      <td>349.461945</td>\n",
       "    </tr>\n",
       "    <tr>\n",
       "      <th>252</th>\n",
       "      <td>2019-02-06</td>\n",
       "      <td>357.000000</td>\n",
       "      <td>357.040009</td>\n",
       "      <td>347.190002</td>\n",
       "      <td>352.190002</td>\n",
       "      <td>352.190002</td>\n",
       "      <td>6717700</td>\n",
       "      <td>349.423127</td>\n",
       "    </tr>\n",
       "    <tr>\n",
       "      <th>119</th>\n",
       "      <td>2018-07-26</td>\n",
       "      <td>358.190002</td>\n",
       "      <td>365.540009</td>\n",
       "      <td>356.630005</td>\n",
       "      <td>363.089996</td>\n",
       "      <td>363.089996</td>\n",
       "      <td>6993700</td>\n",
       "      <td>363.124368</td>\n",
       "    </tr>\n",
       "    <tr>\n",
       "      <th>773</th>\n",
       "      <td>2021-03-03</td>\n",
       "      <td>545.929993</td>\n",
       "      <td>548.010010</td>\n",
       "      <td>517.809998</td>\n",
       "      <td>520.700012</td>\n",
       "      <td>520.700012</td>\n",
       "      <td>5362400</td>\n",
       "      <td>524.845885</td>\n",
       "    </tr>\n",
       "    <tr>\n",
       "      <th>225</th>\n",
       "      <td>2018-12-27</td>\n",
       "      <td>250.110001</td>\n",
       "      <td>255.589996</td>\n",
       "      <td>240.100006</td>\n",
       "      <td>255.570007</td>\n",
       "      <td>255.570007</td>\n",
       "      <td>12235200</td>\n",
       "      <td>246.934674</td>\n",
       "    </tr>\n",
       "  </tbody>\n",
       "</table>\n",
       "<p>202 rows × 8 columns</p>\n",
       "</div>"
      ],
      "text/plain": [
       "           Date        Open        High         Low       Close   Adj Close  \\\n",
       "332  2019-06-03  343.559998  347.660004  332.649994  336.630005  336.630005   \n",
       "274  2019-03-11  352.000000  358.980011  350.029999  358.859985  358.859985   \n",
       "102  2018-07-02  385.450012  398.380005  380.000000  398.179993  398.179993   \n",
       "948  2021-11-09  653.700012  660.500000  650.520020  655.989990  655.989990   \n",
       "622  2020-07-27  484.510010  496.920013  482.309998  495.649994  495.649994   \n",
       "..          ...         ...         ...         ...         ...         ...   \n",
       "250  2019-02-04  342.600006  352.000000  341.299988  351.339996  351.339996   \n",
       "252  2019-02-06  357.000000  357.040009  347.190002  352.190002  352.190002   \n",
       "119  2018-07-26  358.190002  365.540009  356.630005  363.089996  363.089996   \n",
       "773  2021-03-03  545.929993  548.010010  517.809998  520.700012  520.700012   \n",
       "225  2018-12-27  250.110001  255.589996  240.100006  255.570007  255.570007   \n",
       "\n",
       "       Volume  Close_Prediction  \n",
       "332   7849600        338.327292  \n",
       "274   5387300        356.229151  \n",
       "102   8142500        391.628178  \n",
       "948   2415600        656.589421  \n",
       "622   7863100        492.909997  \n",
       "..        ...               ...  \n",
       "250   9051400        349.461945  \n",
       "252   6717700        349.423127  \n",
       "119   6993700        363.124368  \n",
       "773   5362400        524.845885  \n",
       "225  12235200        246.934674  \n",
       "\n",
       "[202 rows x 8 columns]"
      ]
     },
     "execution_count": 57,
     "metadata": {},
     "output_type": "execute_result"
    }
   ],
   "source": [
    "test_pred['Close_Prediction'] = y_pred\n",
    "test_pred"
   ]
  },
  {
   "cell_type": "code",
   "execution_count": 58,
   "metadata": {
    "execution": {
     "iopub.execute_input": "2023-04-18T17:46:09.80412Z",
     "iopub.status.busy": "2023-04-18T17:46:09.803747Z",
     "iopub.status.idle": "2023-04-18T17:46:09.83134Z",
     "shell.execute_reply": "2023-04-18T17:46:09.829638Z",
     "shell.execute_reply.started": "2023-04-18T17:46:09.804084Z"
    }
   },
   "outputs": [
    {
     "data": {
      "text/html": [
       "<div>\n",
       "<style scoped>\n",
       "    .dataframe tbody tr th:only-of-type {\n",
       "        vertical-align: middle;\n",
       "    }\n",
       "\n",
       "    .dataframe tbody tr th {\n",
       "        vertical-align: top;\n",
       "    }\n",
       "\n",
       "    .dataframe thead th {\n",
       "        text-align: right;\n",
       "    }\n",
       "</style>\n",
       "<table border=\"1\" class=\"dataframe\">\n",
       "  <thead>\n",
       "    <tr style=\"text-align: right;\">\n",
       "      <th></th>\n",
       "      <th>count</th>\n",
       "      <th>mean</th>\n",
       "      <th>std</th>\n",
       "      <th>min</th>\n",
       "      <th>25%</th>\n",
       "      <th>50%</th>\n",
       "      <th>75%</th>\n",
       "      <th>max</th>\n",
       "    </tr>\n",
       "  </thead>\n",
       "  <tbody>\n",
       "    <tr>\n",
       "      <th>Close</th>\n",
       "      <td>202.0</td>\n",
       "      <td>413.583316</td>\n",
       "      <td>107.834204</td>\n",
       "      <td>233.880005</td>\n",
       "      <td>330.362504</td>\n",
       "      <td>372.115005</td>\n",
       "      <td>502.839989</td>\n",
       "      <td>690.309998</td>\n",
       "    </tr>\n",
       "    <tr>\n",
       "      <th>Close_Prediction</th>\n",
       "      <td>202.0</td>\n",
       "      <td>413.360228</td>\n",
       "      <td>107.604098</td>\n",
       "      <td>242.565173</td>\n",
       "      <td>330.417910</td>\n",
       "      <td>371.547049</td>\n",
       "      <td>502.016627</td>\n",
       "      <td>686.932087</td>\n",
       "    </tr>\n",
       "  </tbody>\n",
       "</table>\n",
       "</div>"
      ],
      "text/plain": [
       "                  count        mean         std         min         25%  \\\n",
       "Close             202.0  413.583316  107.834204  233.880005  330.362504   \n",
       "Close_Prediction  202.0  413.360228  107.604098  242.565173  330.417910   \n",
       "\n",
       "                         50%         75%         max  \n",
       "Close             372.115005  502.839989  690.309998  \n",
       "Close_Prediction  371.547049  502.016627  686.932087  "
      ]
     },
     "execution_count": 58,
     "metadata": {},
     "output_type": "execute_result"
    }
   ],
   "source": [
    "test_pred[['Close', 'Close_Prediction']].describe().T"
   ]
  },
  {
   "cell_type": "code",
   "execution_count": null,
   "metadata": {},
   "outputs": [],
   "source": []
  }
 ],
 "metadata": {
  "kernelspec": {
   "display_name": "Python 3 (ipykernel)",
   "language": "python",
   "name": "python3"
  },
  "language_info": {
   "codemirror_mode": {
    "name": "ipython",
    "version": 3
   },
   "file_extension": ".py",
   "mimetype": "text/x-python",
   "name": "python",
   "nbconvert_exporter": "python",
   "pygments_lexer": "ipython3",
   "version": "3.10.4"
  }
 },
 "nbformat": 4,
 "nbformat_minor": 4
}
